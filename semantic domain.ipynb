{
 "cells": [
  {
   "cell_type": "code",
   "execution_count": 29,
   "metadata": {},
   "outputs": [],
   "source": [
    "import re\n",
    "import os\n",
    "import spacy\n",
    "nlp = spacy.load('en_core_web_sm', disable = ['parser', 'ner']) # Initialize spacy 'en' model, keeping only tagger component needed\n",
    "from nltk import Text \n",
    "from textanalyzer import TextAnalyzer"
   ]
  },
  {
   "cell_type": "code",
   "execution_count": 30,
   "metadata": {},
   "outputs": [],
   "source": [
    "text1 = \"\"\" DATE WITH ROMANCE. 14 October 1939.\n",
    "Mrs. Ramsay dressed for her lunch with Gerald Spalding in a mood of fine old nostalgia, well crusted on the top and five years in the wood. It took her some time to decide what to wear. After a good deal of thought she chose the navy alpaca suit with a crisp lingerie blouse, for that made her look very trim and she remembered Gerald had once said she seemed to go around protected by invisible cellophane. Mrs. Ramsay felt that it would be tragic for Gerald to sit in Malaya for five years thinking about a woman in London who looked as though she were protected by invisible cellophane and then be faced with someone limp as a wilted lettuce in crumpled chiffon. The hat was a bit of a problem. Used to women skulking about under double terais, Gerald would possibly shy back in alarm from an old love glimmering at him like a submerged oyster through layers of chenille fishnet or making an Ophelia-like entrance under a haystack of pansies. There was nothing in Mrs. Ramsay’s cupboard that seemed to hit the note, so she went out early for her lunch date and picked up en route a quiet, ladylike little number with a touch of near-widowish melancholy in the veil. She also dropped in for a manicure. Gerald had always been rather foolish about her hands, she remembered.\n",
    "At Gerald’s club, the hall porter informed Mrs. Ramsay, in discreet confidential tones which made her feel like a naughty Ouida lady visiting a man’s chambers, that Mr. Spalding had not yet arrived. The porter then came out from his dog kennel and smuggled her into a room full of imitation Chippendale furniture and genuine Sheraton members uneasily entertaining female period pieces to a glass of sherry. Mrs. Ramsay sat down on a brocaded sofa, and presently Gerald came hurrying in, fumbling with his ‘gas-mask carton and looking harassed.\n",
    "‘I'm most awfully sorry,’ he said. ‘I got kept at the doctor's.’\n",
    "‘Gerald, dear,’ said Mrs. Ramsay softly. She held out both her hands, which Gerald pumped up and down. ‘Well, well,’ he said, ‘old Helen.’ Mrs. Ramsay felt a slight but definite chill. Not noticing that the atmosphere of the tender moment had fallen several degrees, Gerald dropped her hands and sat down.\n",
    "“What'll you have?’ he asked.\n",
    "Mrs. Ramsay thought she would take a glass of dry sherry. Gerald ordered a whisky-and-soda for himself. “You get into the habit of stengahs in Malaya,’ he said. ‘Well, chin-chin.’ They drank and gazed at each other, smiling. ‘Old Helen,’ Gerald repeated fatuously. ‘This is nice.’ Mrs. Ramsay noted coldly that he was a good deal yellower than he had been five years ago. ‘How is old Charles?” he asked. ‘And the kiddie? By Jove, she was only a spot of a thing when I was home on leave last.’\n",
    "Mrs. Ramsay said that old Charles was well and that old Susan had, of course, been shipped off to relatives in the country. ‘But I don’t want to talk about them, I want to talk about you,’ she said. ‘I want to hear all your news, Gerald.’\n",
    "He patted her knee absently, as though it were the head of a retriever. ‘Before we start, how about some chow?’ he said.\n",
    "Settled in a dim, panelled corner of the dining-room, Gerald seemed to glow richly, like some citrus fruit. His sombre eye lightened for a moment as he watched Mrs. Ramsay toying prettily with the menu. ‘You've still got lovely hands, Helen,’ he said, in a tone which implied that everything else had gone pretty much to rack and ruin. He ordered steamed fish and Melba toast for himself. ‘I have to be careful about diet,’ he said. ‘It’s my stomach. I told you I'd come straight from the doctor’s this morning.’\n",
    "Mrs. Ramsay said that she did hope it was nothing serious.\n",
    "Gerald assured her, with a kind of melancholy pride, that it was. ‘It’s partly the East, I suppose — dysentery and all that— and partly anno Domini too, probably. We're not as young as we were, Helen.’ He did some more retriever-patting under the table.\n",
    "Mrs. Ramsay, wondering if the kneecap would emit a loud creak, said fretfully that she personally felt very well.\n",
    "’“Age cannot wither her, nor custom stale her infinite variety,” Gerald said loyally. ‘By Jove, look at that girl’s hat!’ He turned round to crane after an elderly colonel escorting an attractive niece to the door. Gerald said that women’s hats were the craziest things he’d seen in years, but that some of these kids could get away with it and look pretty cute. ‘Now, I knew you'd be wearing a sensible hat,’ he said. Mrs. Ramsay smiled wanly.\n",
    "With difficulty escaping from Gerald’s stomach, which seemed to pursue the conversation like some particularly active octopus, they chatted about theatres. Gerald said there was nothing like a good show and he hoped the London producers would carry on, as they promised, in spite of the war. He supposed that in the East he missed a good show more than anything else. Then he told about some awfully jolly theatricals someone had got up in Singapore. Towards the end of lunch he extracted a snapshot from his cigarette case and, flushing a startling shade of burnt sienna, passed it over to Mrs. Ramsay. ‘What do you think of it?’ he said. Mrs. Ramsay gazed thoughtfully at a toothy young woman in a bathing suit perched at the edge of a swimming-pool. ‘Strictly under the punkah, we're thinking of getting married,’ Gerald explained. He said that they had met on the boat coming home and that her name was Monica. ‘Of course, she’s heard everything about you,’ he said. “You'll love old Helen,” I told her. She’s only a kid, really. Her husband was a brute - used to come home from the club stinking and knock her about in front of the servants and all that.’\n",
    "Mrs. Ramsay reflected that his aim must have been indifferent, for Monica’s front teeth seemed many more than were strictly usual. She passed the snapshot back to Gerald and said briskly that she was so glad.\n",
    "‘In spite of all she’s been through, she’s the youngest thing you ever saw,’ said Gerald.\n",
    "‘Isn't that nice?’ said Mrs. Ramsay. She felt that age had withered and custom staled Gerald’s infinite variety considerably, and she improvised an early appointment at the hairdresser’s.\n",
    "“Monica can sit on her hair,’ said Gerald. ‘You never saw such stuff — naturally blond, too.’\n",
    "Mrs. Ramsay, deciding that she would find no difficulty in sitting on Monica’s hair either if Monica’s head were included, said that she really must be running along now.\n",
    "At the last moment, Gerald seemed inclined to be sentimental. ‘I want you to meet Monica soon,’ he said. ‘Do you know what attracted me about her first, Helen? She\n",
    "As soon as she was out of sight round the corner, Mrs. Ramsay took out her handbag mirror and anxiously inspected her teeth. They seemed much as usual and more or less under control. For a while she felt a little low; then, as she crossed the street, she caught sight of her reflection in a shop window and she couldn’t help observing how nice she looked in the navy alpaca suit. It was odd how Gerald had changed when she herself looked precisely the way she had always looked. Poor Gerald, thought Mrs. Ramsay. Already she felt a good deal cellophane, away from the dear and mercifully stone-dead past.\"\"\""
   ]
  },
  {
   "cell_type": "code",
   "execution_count": 31,
   "metadata": {},
   "outputs": [],
   "source": [
    "a = TextAnalyzer(text1)"
   ]
  },
  {
   "cell_type": "code",
   "execution_count": 32,
   "metadata": {},
   "outputs": [],
   "source": [
    "b = a.text_lemmatization()\n",
    "a1 =' '.join(b)"
   ]
  },
  {
   "cell_type": "code",
   "execution_count": 33,
   "metadata": {},
   "outputs": [
    {
     "data": {
      "text/plain": [
       "\"  date with romance 14 october 1939 mrs ramsay dress for her lunch with gerald spalding in a mood of fine old nostalgia well crust on the top and five year in the wood it take she some time to decide what to wear after a good deal of thought she choose the navy alpaca suit with a crisp lingerie blouse for that make she look very trim and she remember gerald have once say she seem to go around protect by invisible cellophane mrs ramsay feel that it would be tragic for gerald to sit in malaya for five year think about a woman in london who look as though she be protect by invisible cellophane and then be face with someone limp as a wilt lettuce in crumpled chiffon the hat be a bit of a problem use to woman skulk about under double terais gerald would possibly shy back in alarm from an old love glimmer at he like a submerge oyster through layer of chenille fishnet or make an ophelia like entrance under a haystack of pansy there be nothing in mrs ramsay ’s cupboard that seem to hit the note so she go out early for her lunch date and pick up en route a quiet ladylike little number with a touch of near widowish melancholy in the veil she also drop in for a manicure gerald have always be rather foolish about her hand she remember at gerald ’s club the hall porter inform mrs ramsay in discreet confidential tone which make she feel like a naughty ouida lady visit a man ’s chamber that mr spalding have not yet arrive the porter then come out from his dog kennel and smuggle she into a room full of imitation chippendale furniture and genuine sheraton member uneasily entertain female period piece to a glass of sherry mrs ramsay sit down on a brocaded sofa and presently gerald come hurry in fumble with his gas mask carton and look harass I be most awfully sorry he say I get keep at the doctor 's gerald dear say mrs ramsay softly she hold out both her hand which gerald pump up and down well well he say old helen mrs ramsay feel a slight but definite chill not notice that the atmosphere of the tender moment have fall several degree gerald drop her hand and sit down what will you have he ask mrs ramsay think she would take a glass of dry sherry gerald order a whisky and soda for himself you get into the habit of stengahs in malaya he say well chin chin they drink and gaze at each other smile old helen gerald repeat fatuously this be nice mrs ramsay note coldly that he be a good deal yellower than he have be five year ago how be old charle he ask and the kiddie by jove she be only a spot of a thing when I be home on leave last mrs ramsay say that old charle be well and that old susan have of course be ship off to relative in the country but I do not want to talk about they I want to talk about you she say I want to hear all your news gerald he pat her knee absently as though it be the head of a retriever before we start how about some chow he say settle in a dim panelled corner of the dining room gerald seem to glow richly like some citrus fruit his sombre eye lighten for a moment as he watch mrs ramsay toy prettily with the menu you 've still get lovely hand helen he say in a tone which imply that everything else have go pretty much to rack and ruin he order steamed fish and melba toast for himself I have to be careful about diet he say it my stomach I tell you I would come straight from the doctor this morning mrs ramsay say that she do hope it be nothing serious gerald assure she with a kind of melancholy pride that it be it partly the east I suppose dysentery and all that and partly anno domini too probably we be not as young as we be helen he do some more retriever patting under the table mrs ramsay wonder if the kneecap would emit a loud creak say fretfully that she personally feel very well age can not wither she nor custom stale her infinite variety gerald say loyally by jove look at that girl ’s hat he turn round to crane after an elderly colonel escort an attractive niece to the door gerald say that woman ’s hat be the crazy thing he ’d see in year but that some of these kid could get away with it and look pretty cute now I know you would be wear a sensible hat he say mrs ramsay smile wanly with difficulty escape from gerald ’s stomach which seem to pursue the conversation like some particularly active octopus they chat about theatre gerald say there be nothing like a good show and he hope the london producer would carry on as they promise in spite of the war he suppose that in the east he miss a good show more than anything else then he tell about some awfully jolly theatrical someone have get up in singapore towards the end of lunch he extract a snapshot from his cigarette case and flush a startling shade of burn sienna pass it over to mrs ramsay what do you think of it he say mrs ramsay gaze thoughtfully at a toothy young woman in a bathing suit perch at the edge of a swimming pool strictly under the punkah we be think of get marry gerald explain he say that they have meet on the boat come home and that her name be monica of course she ’s hear everything about you he say you will love old helen I tell she she only a kid really her husband be a brute use to come home from the club stink and knock she about in front of the servant and all that mrs ramsay reflect that his aim must have be indifferent for monica ’s front tooth seem many more than be strictly usual she pass the snapshot back to gerald and say briskly that she be so glad in spite of all she be through she the young thing you ever see say gerald be not that nice say mrs ramsay she feel that age have wither and custom stale gerald ’s infinite variety considerably and she improvise an early appointment at the hairdresser ’s monica can sit on her hair say gerald you never see such stuff naturally blond too mrs ramsay decide that she would find no difficulty in sit on monica ’s hair either if monica ’s head be include say that she really must be run along now at the last moment gerald seem inclined to be sentimental I want you to meet monica soon he say do you know what attract I about her first helen she as soon as she be out of sight round the corner mrs ramsay take out her handbag mirror and anxiously inspect her tooth they seem much as usual and more or less under control for a while she feel a little low then as she cross the street she catch sight of her reflection in a shop window and she could not help observe how nice she look in the navy alpaca suit it be odd how gerald have change when she herself look precisely the way she have always look poor gerald think mrs ramsay already she feel a good deal cellophane away from the dear and mercifully stone dead past\""
      ]
     },
     "execution_count": 33,
     "metadata": {},
     "output_type": "execute_result"
    }
   ],
   "source": [
    "a1"
   ]
  },
  {
   "cell_type": "code",
   "execution_count": 52,
   "metadata": {},
   "outputs": [],
   "source": [
    "def war_semantic_field (lemmatized_text):\n",
    "    with open (f'semantic_field_of_war.txt', encoding = 'utf-8') as f:\n",
    "        semantic_field_of_war = f.readlines()\n",
    "    field_and_attributes = []\n",
    "    fields =[]\n",
    "    attributes = []\n",
    "\n",
    "    for line in semantic_field_of_war:\n",
    "        field_and_attributes = line.split(';')\n",
    "        fields.append(field_and_attributes[0])\n",
    "        attributes.append(field_and_attributes[1].split(', ')) # the list of words attributed for this semantic subfield\n",
    "\n",
    "    for line in attributes:\n",
    "        line[-1] = re.sub('\\n', '', line[-1])\n",
    "\n",
    "    joined_text = ' '.join(lemmatized_text)\n",
    "\n",
    "\n",
    "    results_of_search = []\n",
    "    words_found = []\n",
    "    for i in range(len(attributes)):\n",
    "        subresults = []\n",
    "        for k in range(len(attributes[i])):\n",
    "            subresults.append(len(re.findall(attributes[i][k],joined_text)))\n",
    "            if len(re.findall(attributes[i][k],joined_text)) != 0:\n",
    "                words_found.append(re.findall(attributes[i][k],joined_text))\n",
    "        results_of_search.append(subresults)\n",
    "\n",
    "    return results_of_search, words_found\n",
    "\n",
    "\n",
    "\n"
   ]
  },
  {
   "cell_type": "code",
   "execution_count": 54,
   "metadata": {},
   "outputs": [
    {
     "data": {
      "text/plain": [
       "([[2, 0, 0, 0, 0, 0],\n",
       "  [0, 0, 0, 0, 0, 0, 0, 0],\n",
       "  [0, 0, 0, 0, 0, 0, 0],\n",
       "  [0, 0, 0, 0, 2, 0, 0, 0, 0],\n",
       "  [0, 0, 0, 0, 0, 0, 0, 0, 0, 0, 1, 0, 0, 0, 0, 0, 0, 0, 0, 0, 0, 0],\n",
       "  [0, 0, 0, 0, 0, 0, 0, 0, 0, 0],\n",
       "  [5],\n",
       "  [0, 0, 0],\n",
       "  [0],\n",
       "  [0],\n",
       "  [0, 0]],\n",
       " [['war', 'war'],\n",
       "  ['front', 'front'],\n",
       "  ['rally'],\n",
       "  ['ally', 'ally', 'ally', 'ally', 'ally']])"
      ]
     },
     "execution_count": 54,
     "metadata": {},
     "output_type": "execute_result"
    }
   ],
   "source": [
    "a = TextAnalyzer(text1)\n",
    "b = a.text_lemmatization()\n",
    "proba = war_semantic_field(b)\n",
    "proba"
   ]
  },
  {
   "cell_type": "code",
   "execution_count": null,
   "metadata": {},
   "outputs": [
    {
     "data": {
      "text/plain": [
       "[['war', 'warfare', 'fighting', 'civil war', 'conflict', 'armed conflict'],\n",
       " ['fight a war',\n",
       "  'wage war',\n",
       "  'be at war',\n",
       "  'declare war',\n",
       "  'make war',\n",
       "  'go on the warpath',\n",
       "  'fight',\n",
       "  'clash'],\n",
       " ['war',\n",
       "  'battle',\n",
       "  'campaign',\n",
       "  'engagement',\n",
       "  'fight',\n",
       "  'contest',\n",
       "  'clash',\n",
       "  'skirmish'],\n",
       " ['battlefield',\n",
       "  'field of battle',\n",
       "  'theater of war',\n",
       "  'scene of the battle',\n",
       "  'front',\n",
       "  'front lines',\n",
       "  'flank',\n",
       "  'rear',\n",
       "  'war zone'],\n",
       " ['strategy',\n",
       "  'tactics',\n",
       "  'hunker down',\n",
       "  'keep up the pressure',\n",
       "  'overwhelm',\n",
       "  'concentrate your forces',\n",
       "  'form a line',\n",
       "  'hold the line',\n",
       "  'break the line',\n",
       "  'reform',\n",
       "  'rally',\n",
       "  'morale',\n",
       "  'maintain morale',\n",
       "  'military discipline',\n",
       "  'supply',\n",
       "  'supply lines',\n",
       "  'control the battle',\n",
       "  'battlefield control',\n",
       "  'reconnaissance',\n",
       "  'reconnoiter',\n",
       "  'intelligence',\n",
       "  'propaganda'],\n",
       " ['deploy',\n",
       "  'maneuver',\n",
       "  'outmaneuver',\n",
       "  'flank',\n",
       "  'outflank',\n",
       "  'advance',\n",
       "  'charge',\n",
       "  'overrun',\n",
       "  'retreat',\n",
       "  'withdraw'],\n",
       " ['ally'],\n",
       " ['warmonger', 'militarist', 'hawk'],\n",
       " ['warlike'],\n",
       " ['warring'],\n",
       " ['casualty', 'missing in action']]"
      ]
     },
     "execution_count": 11,
     "metadata": {},
     "output_type": "execute_result"
    }
   ],
   "source": [
    "with open (f'semantic_field_of_war.txt', encoding = 'utf-8') as f:\n",
    "        semantic_field_of_war = f.readlines()\n",
    "field_and_attributes = []\n",
    "fields =[]\n",
    "attributes = []\n",
    "\n",
    "for line in semantic_field_of_war:\n",
    "    field_and_attributes = line.split(';')\n",
    "    fields.append(field_and_attributes[0])\n",
    "        \n",
    "    attributes.append(field_and_attributes[1].split(', ')) # the list of words attributed for this semantic subfield\n",
    "\n",
    "for line in attributes:\n",
    "    line[-1] = re.sub('\\n', '', line[-1])\n",
    "    #for subline in line:\n",
    "        #subline = subline.split(' ')\n",
    "    \n",
    "\n",
    "\n",
    "attributes\n",
    "\n"
   ]
  },
  {
   "cell_type": "code",
   "execution_count": null,
   "metadata": {},
   "outputs": [
    {
     "ename": "NameError",
     "evalue": "name 'ordered_titles' is not defined",
     "output_type": "error",
     "traceback": [
      "\u001b[1;31m---------------------------------------------------------------------------\u001b[0m",
      "\u001b[1;31mNameError\u001b[0m                                 Traceback (most recent call last)",
      "Cell \u001b[1;32mIn[12], line 2\u001b[0m\n\u001b[0;32m      1\u001b[0m number_of_war_rellated_terms \u001b[39m=\u001b[39m {}\n\u001b[1;32m----> 2\u001b[0m \u001b[39mfor\u001b[39;00m title \u001b[39min\u001b[39;00m ordered_titles: \n\u001b[0;32m      3\u001b[0m     f \u001b[39m=\u001b[39m \u001b[39mopen\u001b[39m (\u001b[39mf\u001b[39m\u001b[39m'\u001b[39m\u001b[39mGood Evening, Mrs. Craven texts/\u001b[39m\u001b[39m{\u001b[39;00mtitle\u001b[39m}\u001b[39;00m\u001b[39m'\u001b[39m, encoding \u001b[39m=\u001b[39m \u001b[39m'\u001b[39m\u001b[39mutf-8\u001b[39m\u001b[39m'\u001b[39m)\n\u001b[0;32m      4\u001b[0m     short_story \u001b[39m=\u001b[39m f\u001b[39m.\u001b[39mread()\n",
      "\u001b[1;31mNameError\u001b[0m: name 'ordered_titles' is not defined"
     ]
    }
   ],
   "source": [
    "number_of_war_rellated_terms = {}\n",
    "for title in ordered_titles: \n",
    "    f = open (f'Good Evening, Mrs. Craven texts/{title}', encoding = 'utf-8')\n",
    "    short_story = f.read()\n",
    "    short_story.lower() #\n",
    "    short_story_lemmatized_in_list = my_lemmatizer(short_story)\n",
    "    short_story_lemm = Text(short_story_lemmatized_in_list)\n",
    "    counter = 0\n",
    "    for line in attributes:\n",
    "        for item in line:\n",
    "            \n",
    "            counter += short_story_lemm.count(item)\n",
    "           \n",
    "    number_of_war_rellated_terms [title] = counter\n",
    "        \n",
    "    \n",
    "    f.close()"
   ]
  },
  {
   "cell_type": "code",
   "execution_count": null,
   "metadata": {},
   "outputs": [],
   "source": []
  },
  {
   "cell_type": "code",
   "execution_count": null,
   "metadata": {},
   "outputs": [
    {
     "data": {
      "text/plain": [
       "list"
      ]
     },
     "execution_count": 24,
     "metadata": {},
     "output_type": "execute_result"
    }
   ],
   "source": [
    "lemma = my_lemmatizer(text1)\n",
    "type(lemma)\n",
    "new_text = TextAnalyzer(text1)\n",
    "type(new_text.text_lemmatization())"
   ]
  },
  {
   "cell_type": "code",
   "execution_count": 49,
   "metadata": {},
   "outputs": [],
   "source": [
    "with open (f'semantic_field_of_war.txt', encoding = 'utf-8') as f:\n",
    "    semantic_field_of_war = f.readlines()\n",
    "field_and_attributes = []\n",
    "fields =[]\n",
    "attributes = []\n",
    "\n",
    "for line in semantic_field_of_war:\n",
    "    field_and_attributes = line.split(';')\n",
    "    fields.append(field_and_attributes[0])\n",
    "    attributes.append(field_and_attributes[1].split(', ')) # the list of words attributed for this semantic subfield\n",
    "\n",
    "for line in attributes:\n",
    "    line[-1] = re.sub('\\n', '', line[-1])\n",
    "lemmatized_text = TextAnalyzer(text1)\n",
    "lemmatized_text1 = lemmatized_text.text_lemmatization()\n",
    "joined_text = ' '.join(lemmatized_text1)\n",
    "\n",
    "results_of_search = []\n",
    "words_found = []\n",
    "for i in range(len(attributes)):\n",
    "    subresults = []\n",
    "    for k in range(len(attributes[i])):\n",
    "        subresults.append(len(re.findall(attributes[i][k],joined_text)))\n",
    "        if len(re.findall(attributes[i][k],joined_text)) != 0:\n",
    "            words_found.append(re.findall(attributes[i][k],joined_text))\n",
    "    results_of_search.append(subresults)\n",
    "    "
   ]
  },
  {
   "cell_type": "code",
   "execution_count": 50,
   "metadata": {},
   "outputs": [
    {
     "data": {
      "text/plain": [
       "[['war', 'war'],\n",
       " ['front', 'front'],\n",
       " ['rally'],\n",
       " ['ally', 'ally', 'ally', 'ally', 'ally']]"
      ]
     },
     "execution_count": 50,
     "metadata": {},
     "output_type": "execute_result"
    }
   ],
   "source": [
    "results_of_search\n",
    "words_found"
   ]
  },
  {
   "cell_type": "code",
   "execution_count": 48,
   "metadata": {},
   "outputs": [
    {
     "data": {
      "text/plain": [
       "[['war', 'warfare', 'fighting', 'civil war', 'conflict', 'armed conflict'],\n",
       " ['fight a war',\n",
       "  'wage war',\n",
       "  'be at war',\n",
       "  'declare war',\n",
       "  'make war',\n",
       "  'go on the warpath',\n",
       "  'fight',\n",
       "  'clash'],\n",
       " ['battle', 'campaign', 'engagement', 'fight', 'contest', 'clash', 'skirmish'],\n",
       " ['battlefield',\n",
       "  'field of battle',\n",
       "  'theater of war',\n",
       "  'scene of the battle',\n",
       "  'front',\n",
       "  'front lines',\n",
       "  'flank',\n",
       "  'rear',\n",
       "  'war zone'],\n",
       " ['strategy',\n",
       "  'tactics',\n",
       "  'hunker down',\n",
       "  'keep up the pressure',\n",
       "  'overwhelm',\n",
       "  'concentrate your forces',\n",
       "  'form a line',\n",
       "  'hold the line',\n",
       "  'break the line',\n",
       "  'reform',\n",
       "  'rally',\n",
       "  'morale',\n",
       "  'maintain morale',\n",
       "  'military discipline',\n",
       "  'supply',\n",
       "  'supply lines',\n",
       "  'control the battle',\n",
       "  'battlefield control',\n",
       "  'reconnaissance',\n",
       "  'reconnoiter',\n",
       "  'intelligence',\n",
       "  'propaganda'],\n",
       " ['deploy',\n",
       "  'maneuver',\n",
       "  'outmaneuver',\n",
       "  'flank',\n",
       "  'outflank',\n",
       "  'advance',\n",
       "  'charge',\n",
       "  'overrun',\n",
       "  'retreat',\n",
       "  'withdraw'],\n",
       " ['ally'],\n",
       " ['warmonger', 'militarist', 'hawk'],\n",
       " ['warlike'],\n",
       " ['warring'],\n",
       " ['casualty', 'missing in action']]"
      ]
     },
     "execution_count": 48,
     "metadata": {},
     "output_type": "execute_result"
    }
   ],
   "source": [
    "attributes"
   ]
  }
 ],
 "metadata": {
  "kernelspec": {
   "display_name": "nlp",
   "language": "python",
   "name": "python3"
  },
  "language_info": {
   "codemirror_mode": {
    "name": "ipython",
    "version": 3
   },
   "file_extension": ".py",
   "mimetype": "text/x-python",
   "name": "python",
   "nbconvert_exporter": "python",
   "pygments_lexer": "ipython3",
   "version": "3.10.12"
  },
  "orig_nbformat": 4
 },
 "nbformat": 4,
 "nbformat_minor": 2
}
